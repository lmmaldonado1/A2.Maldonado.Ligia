{
 "cells": [
  {
   "cell_type": "code",
   "execution_count": null,
   "id": "9b38298b-4ef0-48f2-b7a7-3954fc8e1417",
   "metadata": {
    "collapsed": true,
    "jupyter": {
     "outputs_hidden": true
    },
    "tags": []
   },
   "outputs": [],
   "source": [
    "_<font color='blue'>Actividad de Aprendizaje</font>_"
   ]
  },
  {
   "cell_type": "code",
   "execution_count": null,
   "id": "efc35c3f-0280-4173-9a5a-001c51d17ba9",
   "metadata": {},
   "outputs": [],
   "source": [
    "_<font color='blue'>Nombre: Maricela Maldonado</font>_"
   ]
  },
  {
   "cell_type": "markdown",
   "id": "22e60d0c-943d-41b0-a66e-d70dfadb95fc",
   "metadata": {},
   "source": [
    "_<font color='blue'>1. Utilizando los metodos Newton, Bisección y Secante encuentre la raíz de la siguiente función: $f(x) = x + cos (x) $ en el intervalo $[−2, 0]$, con cuatro cifras decimales.</font>_\n"
   ]
  },
  {
   "cell_type": "markdown",
   "id": "a0e8859c-cd2b-4692-a92a-e1409d7452b4",
   "metadata": {
    "tags": []
   },
   "source": [
    "<img src=\"EJE1.png\">"
   ]
  },
  {
   "cell_type": "markdown",
   "id": "019ceb04-e4ad-4700-b996-3dafffd95621",
   "metadata": {
    "tags": []
   },
   "source": [
    "**_<font color='blue'>Metodo Bisección</font>_**"
   ]
  },
  {
   "cell_type": "code",
   "execution_count": 1,
   "id": "25068b04-1a66-4ec6-b6c8-b68c2abf14ee",
   "metadata": {
    "tags": []
   },
   "outputs": [
    {
     "data": {
      "text/plain": [
       "-0.7391357421875"
      ]
     },
     "execution_count": 1,
     "metadata": {},
     "output_type": "execute_result"
    }
   ],
   "source": [
    "#### Importamos librerias ###\n",
    "import numpy as np\n",
    "def biseccion2(f,a,b,tol):\n",
    "    if np.sign(f(a)) == np.sign(f(b)):\n",
    "        print(\"La raiz no esta en el intervalo que esta especificado\")\n",
    "        return\n",
    "    m = (a + b)/2\n",
    "    if np.abs(f(m)) < tol:\n",
    "        return m\n",
    "    elif np.sign(f(a)) == np.sign(f(m)):\n",
    "        return biseccion2(f, m, b, tol)\n",
    "    elif np.sign(f(b)) == np.sign(f(m)):\n",
    "        return biseccion2(f, a, m, tol)\n",
    "    \n",
    "#f = lambda x: x*np.cos(x)-3\n",
    "f= lambda x: x+np.cos(x)\n",
    "\n",
    "#r1 = biseccion(f, 1, 2, 0.0001,100)\n",
    "biseccion2(f, -2, 0, 0.0001)\n",
    "#print(\"error =\", np.sqrt(2)-r1)\n",
    "#print(\"error =\", (5.312469-r2))\n"
   ]
  },
  {
   "cell_type": "markdown",
   "id": "546b98bd-9815-440e-bc2a-c42e1a16e8af",
   "metadata": {},
   "source": [
    "**_<font color='blue'> Metodo Newton </font>_**"
   ]
  },
  {
   "cell_type": "code",
   "execution_count": 2,
   "id": "8e545cf7-d17d-490a-844e-0f7e9cc3d7e5",
   "metadata": {},
   "outputs": [
    {
     "data": {
      "text/plain": [
       "-0.7391357421875"
      ]
     },
     "execution_count": 2,
     "metadata": {},
     "output_type": "execute_result"
    }
   ],
   "source": [
    "import numpy as np\n",
    "def biseccion2(f,a,b,tol):\n",
    "    if np.sign(f(a)) == np.sign(f(b)):\n",
    "        print(\"La raiz no esta en el intervalo que esta especificado\")\n",
    "        return\n",
    "    m = (a + b)/2\n",
    "    if np.abs(f(m)) < tol:\n",
    "        return m\n",
    "    elif np.sign(f(a)) == np.sign(f(m)):\n",
    "        return biseccion2(f, m, b, tol)\n",
    "    elif np.sign(f(b)) == np.sign(f(m)):\n",
    "        return biseccion2(f, a, m, tol)\n",
    "    \n",
    "#f = lambda x: x*np.cos(x)-3\n",
    "f= lambda x: x+np.cos(x)\n",
    "\n",
    "#r1 = biseccion(f, 1, 2, 0.0001,100)\n",
    "biseccion2(f, -2, 0, 0.0001)\n",
    "#(\"error =\", np.sqrt(2)-r1)\n",
    "#print(\"error=\", (5.312469-r2))\n"
   ]
  },
  {
   "cell_type": "markdown",
   "id": "7a81a46c-92ac-4c49-8de2-aeae1ad9a568",
   "metadata": {},
   "source": [
    "**_<font color='blue'>Metodo Secante</font>_**"
   ]
  },
  {
   "cell_type": "code",
   "execution_count": 3,
   "id": "82fa1a60-cc36-4323-8bed-0e1db4781985",
   "metadata": {},
   "outputs": [
    {
     "name": "stdout",
     "output_type": "stream",
     "text": [
      "-0.7390851332151606  localizado con  6  interacciones\n"
     ]
    }
   ],
   "source": [
    "import numpy as np\n",
    "def secante(f,x0,x1,nmax,tol):\n",
    "    for i in range(0,nmax):\n",
    "        x2=(x0*f(x1)-x1*f(x0))/(f(x1)-f(x0));\n",
    "        if abs(x2-x1) < tol:\n",
    "            print(x2,' localizado con ',i,' interacciones')\n",
    "            break\n",
    "        else:\n",
    "            x0=x1\n",
    "            x1=x2\n",
    "    return None\n",
    "\n",
    "#f = lambda x: x*np.cos(x)-3\n",
    "f=lambda x: x+np.cos(x)\n",
    "secante(f,-2,0,20,1e-10)"
   ]
  },
  {
   "cell_type": "markdown",
   "id": "b566ec34-f997-4a96-977e-ab11fafec89b",
   "metadata": {},
   "source": [
    "_<font color='blue'>2. Encontrar la interseccion de las siguientes funciones: $f(x) = 3 − x$ y $g(x) = ln (x)$, con tres cifras decimales.</font>_"
   ]
  },
  {
   "cell_type": "code",
   "execution_count": null,
   "id": "887e8356-3bf0-479a-ac64-595c416ec25a",
   "metadata": {},
   "outputs": [],
   "source": [
    "_<font color='red'> Primero igualamos las funciones</font>_\n",
    "\n",
    "##### $f\\left(x\\right)\\:=\\:g\\left(x\\right)\\:\\rightarrow \\:3-x\\:=\\:ln\\left(x\\right)$\n",
    "\n",
    "#####  Desarrollando\n",
    "#####  $ln\\left(x\\right)\\:+x-3=0$\n",
    "#####  $i\\left(x\\right)=ln\\left(x\\right)+x-3\\:$\n",
    "#####  $i'\\left(x\\right)=\\frac{1}{x}+1$\n",
    "\n",
    "#####  Definir raíces de $i$\n",
    "#####  $x_0=2\\:;\\:i=0$\n",
    "#####  $i\\left(2\\right)=ln\\left(2\\right)+2-3\\:\\rightarrow \\:-0,307$\n",
    "#####  $i'\\left(2\\right)=\\frac{1}{2}+1\\:=\\frac{3}{2}\\:\\rightarrow \\:1,5$\n",
    "\n",
    "#####  Evaluamos en Newton\n",
    "#####  $x_1=2-\\left(\\frac{-\\:0,307}{1,5}\\right)\\:$\n",
    "##### $x_1=2,20466\\:\\rightarrow \\:2,205$\n",
    "\n",
    "#####  Evaluamos $i=1 ; x_1=2,205$\n",
    "#####  $i\\left(2,205\\right)\\:=\\:ln\\left(2,205\\right)+2,205\\:-\\:3\\:\\rightarrow \\:-0,004$\n",
    "#####  $i'\\left(2,205\\right)\\:=\\frac{1}{2,205}\\:+\\:1\\:=\\:1,4535\\:\\rightarrow \\:1,454$\n",
    "#####  $x_2\\:=\\:2,205\\:-\\left(\\frac{-\\:0,004}{1,454}\\right)\\:\\rightarrow \\:x_2=2,208$\n",
    "\n",
    "#####  Evaluamos $i =2 ; x_3 = 2,208$\n",
    "##### $i\\left(2,208\\right)\\:=ln\\left(2,208\\right)\\:+2,208\\:-\\:3\\:=0,00008\\:\\rightarrow \\:0,000$\n",
    "##### $i'\\left(2,208\\right)\\:=\\frac{1}{2,208}\\:+\\:1\\:=1,453$\n",
    "\n",
    "##### Evaluamos en $x_3$\n",
    "##### $x_3\\:=\\:x_2\\:-\\frac{i\\left(x_2\\right)}{i'\\left(x_2\\right)}$\n",
    "##### $x_3=2,208\\:-0\\:\\rightarrow \\:2,208$\n",
    "\n",
    "#####  Se reemplaza la raíz \n",
    "#####  Si $f(x) = 3 - (x)$\n",
    "##### $f(2,208) = 3 - 2,208 \\rightarrow \\:0,792$ \n",
    "#####  $Respuesta./ \\:La\\:interseccion\\:de\\:las\\:funciones\\:es:\\:\\left(2,208\\:;\\:0,792\\right)$"
   ]
  },
  {
   "cell_type": "markdown",
   "id": "276ef7e8-8f3e-4528-b04a-7721afe063ad",
   "metadata": {},
   "source": [
    "_<font color='blue'> 3. Programar el metodo de sustitucion regresiva. Analice el numero de operaciones del algoritmo para matrices de tamaño 3 × 3.</font>_"
   ]
  },
  {
   "cell_type": "code",
   "execution_count": 3,
   "id": "c1b9debf-8a23-439e-a545-5696d80046b1",
   "metadata": {},
   "outputs": [
    {
     "name": "stdout",
     "output_type": "stream",
     "text": [
      "[3. 0. 1.]\n"
     ]
    }
   ],
   "source": [
    "import numpy as np\n",
    "# ingreso la matriz\n",
    "A = np.array([[1,1,-3],[0,1,1],[0,0,3]])\n",
    "# terminos independientes\n",
    "b=np.array([0,1,3])\n",
    "#el numero de ecuaciones 3 filas\n",
    "n=np.size(b)\n",
    "#Se define el vector para colocar la solucion\n",
    "x=np.zeros(n)\n",
    "#realizamos el ciclo que va desde la ultima ecuacion hasta la primera\n",
    "for i in range(n-1,-1,-1):\n",
    "    sumj=0\n",
    "    for j in range (i+1,n):\n",
    "        sumj +=A[i,j]*x[j]\n",
    "    x[i]=(b[i]-sumj)*1/A[i,i]\n",
    "print(x)"
   ]
  },
  {
   "cell_type": "markdown",
   "id": "ce6085ef-2c6d-4b30-8dca-a98fe00946e9",
   "metadata": {
    "tags": []
   },
   "source": [
    "_<font color='blue'> 4.Una importante parte de la física es la termodinámica que es el estudio de la transferencia de calor.En este ejercicio vamos a determinar la distribución de temperatura de estado estable de una placa delgada cuando se conoce la temperatura en los bordes.Suponga que la placa que se ilustra en la figura representa una sección transversal de una viga de metal, con flujo de calor despreciable en la dirección perpendicular a la placa. Sean T1, T2, T3 yT4 las temperaturas en los cuatro nodos interiores de la malla en la figura. La temperatura en unnodo es aproximadamente igual al promedio de las temperaturas de los cuatro nodos más cercanos,esto es, a la izquierda, arriba, a la derecha y abajo.Escriba un sistema de ecuaciones cuya solución de estimaciones de las temperaturas T1, T2, T3 y T4.Programe el método de eliminación gaussiana. </font>_"
   ]
  },
  {
   "cell_type": "markdown",
   "id": "af3cb628-32b7-4a2c-9a42-236bf4f0362d",
   "metadata": {},
   "source": [
    "<img src=\"EJE4.png\">"
   ]
  },
  {
   "cell_type": "code",
   "execution_count": 1,
   "id": "b7987a5c-0ca7-4de2-9456-3573a40fa457",
   "metadata": {},
   "outputs": [
    {
     "name": "stdout",
     "output_type": "stream",
     "text": [
      "[[ 4. -1. -1.  0.]\n",
      " [-1.  4.  0. -1.]\n",
      " [-1.  0.  4. -1.]\n",
      " [ 0. -1. -1.  4.]]\n",
      "[30. 60. 40. 70.]\n",
      "\n",
      " Soluciones del sistema de  ecuaciones  es:\n",
      "[20.  27.5 22.5 30. ]\n"
     ]
    }
   ],
   "source": [
    "import numpy as np\n",
    "A = np.array([[4., -1., -1.,  0.],\n",
    "              [-1., 4.,  0., -1.],\n",
    "              [-1., 0.,  4., -1.],\n",
    "              [0., -1., -1., 4.]])\n",
    "B = np.array([30.,60.,40.,70.])\n",
    "A1=np.copy(A)\n",
    "B1=np.copy(B)\n",
    "n=len(B)\n",
    "print(A)\n",
    "print(B)\n",
    "for k in range(0,n-1):\n",
    "    for i in range(k+1,n):\n",
    "        mult= A[i,k]/A[k,k]\n",
    "        for j in range(k,n):\n",
    "            A[i,j]-=mult*A[k,j]\n",
    "        B[i] -=mult*B[k]\n",
    "x=np.zeros(n)\n",
    "x[n-1]=B[n-1]/A[n-1,n-1]\n",
    "for i in range(n-2,-1,-1):\n",
    "    suma_j=0\n",
    "    for j in range(i+1,n):\n",
    "        suma_j += A[i,j]*x[j]\n",
    "        x[i]=(B[i]-suma_j)/A[i,i]\n",
    "\n",
    "print(\"\\n Soluciones del sistema de  ecuaciones  es:\")\n",
    "print(np.linalg.solve(A,B))"
   ]
  },
  {
   "cell_type": "markdown",
   "id": "bab7b72e-ee38-48bc-b60a-37c14bdbf9a5",
   "metadata": {
    "tags": []
   },
   "source": [
    "_<font color='blue'> 5. Programe el pivoteo parcial en el algoritmo de eliminación gaussiana. Utilice este nuevo programa para resolver el ejercicio anterior. Compare los resultados.</font>_"
   ]
  },
  {
   "cell_type": "code",
   "execution_count": 6,
   "id": "c6d7a8f0-74c2-43e5-bc26-4555ff22b9a2",
   "metadata": {},
   "outputs": [
    {
     "name": "stdout",
     "output_type": "stream",
     "text": [
      "[[ 0. -1. -1.  0.]\n",
      " [-1.  4.  0. -1.]\n",
      " [-1.  0.  4. -1.]\n",
      " [ 0. -1. -1.  4.]]\n",
      "[30. 60. 40. 70.]\n",
      "\n",
      " las soluciones del sistema de  ecuaciones  es:\n",
      "[-120.   -12.5  -17.5   10. ]\n"
     ]
    }
   ],
   "source": [
    "import numpy as np\n",
    "A = np.array([[0., -1., -1.,  0.],\n",
    "              [-1., 4.,  0., -1.],\n",
    "              [-1., 0.,  4., -1.],\n",
    "              [0., -1., -1., 4.]])\n",
    "B = np.array([30.,60.,40.,70.])\n",
    "A1=np.copy(A)\n",
    "B1=np.copy(B)\n",
    "n=len(B)\n",
    "print(A)\n",
    "print(B)\n",
    "for k in range(n-1):\n",
    "        #Elija el elemento de pivote más grande a continuación (incluido) k\n",
    "        maxindex = abs(A[k:,k]).argmax()+ k\n",
    "        if A[maxindex, k] == 0:\n",
    "            raise ValueError(\"Matrix is singular.\")\n",
    "        #Intercambiar filas\n",
    "        if maxindex != k:\n",
    "            A[[k,maxindex]] = A[[maxindex, k]]\n",
    "            B[[k,maxindex]] = B[[maxindex, k]]\n",
    "for k in range(0,n-1):\n",
    "\n",
    "    for i in range(k+1,n):\n",
    "        mult= A[i,k]/A[k,k]\n",
    "        for j in range(k,n):\n",
    "            A[i,j]-=mult*A[k,j]\n",
    "        B[i] -=mult*B[k]\n",
    "x=np.zeros(n)\n",
    "x[n-1]=B[n-1]/A[n-1,n-1]\n",
    "for i in range(n-2,-1,-1):\n",
    "    suma_j=0\n",
    "    for j in range(i+1,n):\n",
    "        suma_j += A[i,j]*x[j]\n",
    "        x[i]=(B[i]-suma_j)/A[i,i]\n",
    "\n",
    "print(\"\\n las soluciones del sistema de  ecuaciones  es:\")\n",
    "print(np.linalg.solve(A,B))"
   ]
  },
  {
   "cell_type": "markdown",
   "id": "bda4e70b-01f7-4e1e-926d-a39a0acef8b1",
   "metadata": {},
   "source": [
    "_<font color='blue'> Bibliografia</font>_"
   ]
  },
  {
   "cell_type": "markdown",
   "id": "2613bbd3-7740-40c3-8338-501ed97b055d",
   "metadata": {},
   "source": [
    "_<font color='blue'> https://www.youtube.com/watch?v=QE0ZN4-MrKs</font>_"
   ]
  },
  {
   "cell_type": "markdown",
   "id": "ba2a2147-08f1-4097-a34e-84a4521634d1",
   "metadata": {},
   "source": [
    "_<font color='blue'> https://yoursdata.net/jupyter-lab-shortcut-and-magic-functions-tips/?id_curso=18970</font>_"
   ]
  },
  {
   "cell_type": "markdown",
   "id": "17debb00-fa82-4e7c-96e9-bd885050bb35",
   "metadata": {},
   "source": [
    "_<font color='blue'>http://esfm.egormaximenko.com/numlinalg/triangular_systems_of_linear_equations_es.pdf</font>_"
   ]
  },
  {
   "cell_type": "code",
   "execution_count": null,
   "id": "85af7e68-a1b1-47cf-b9f6-034d9bcf4745",
   "metadata": {},
   "outputs": [],
   "source": []
  }
 ],
 "metadata": {
  "kernelspec": {
   "display_name": "Python 3",
   "language": "python",
   "name": "python3"
  },
  "language_info": {
   "codemirror_mode": {
    "name": "ipython",
    "version": 3
   },
   "file_extension": ".py",
   "mimetype": "text/x-python",
   "name": "python",
   "nbconvert_exporter": "python",
   "pygments_lexer": "ipython3",
   "version": "3.9.6"
  }
 },
 "nbformat": 4,
 "nbformat_minor": 5
}
